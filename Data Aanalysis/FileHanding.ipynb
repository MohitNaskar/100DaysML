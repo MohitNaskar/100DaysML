{
 "cells": [
  {
   "cell_type": "code",
   "execution_count": 1,
   "id": "078ac276",
   "metadata": {},
   "outputs": [],
   "source": [
    " #case 1 - if the file is not present \n",
    "f = open(\"test.txt\", \"w\")\n",
    "f.write(\"Hello World\")\n",
    "f.close()"
   ]
  },
  {
   "cell_type": "code",
   "execution_count": 2,
   "id": "61c63048",
   "metadata": {},
   "outputs": [],
   "source": [
    "#write a multiline strings\n",
    "f = open(\"sample.txt\", \"w\")\n",
    "f.write(\"\"\"Hello World\n",
    "This is a sample file\n",
    "This is a test file\n",
    "\"\"\")\n",
    "f.close()"
   ]
  },
  {
   "cell_type": "code",
   "execution_count": 3,
   "id": "9ae4c4b2",
   "metadata": {},
   "outputs": [],
   "source": [
    "#case 2 - if the file is already present\n",
    "f = open(\"sample.txt\", \"w\")\n",
    "f.write(\"Hello Mohit\")\n",
    "f.close()"
   ]
  },
  {
   "cell_type": "code",
   "execution_count": 4,
   "id": "f500ded0",
   "metadata": {},
   "outputs": [],
   "source": [
    "#using append mode\n",
    "f = open(\"sample.txt\", \"a\")\n",
    "f.write(\"\\nThis is a new line\")\n",
    "f.close()"
   ]
  },
  {
   "cell_type": "code",
   "execution_count": 5,
   "id": "0537fc08",
   "metadata": {},
   "outputs": [],
   "source": [
    "#write line \n",
    "l = [\"Hello World\\n\", \"This is a sample file\\n\", \"This is a test file\\n\"]\n",
    "f = open(\"sample.txt\", \"w\")\n",
    "f.writelines(l)\n",
    "f.close()"
   ]
  },
  {
   "cell_type": "code",
   "execution_count": 6,
   "id": "47817deb",
   "metadata": {},
   "outputs": [
    {
     "name": "stdout",
     "output_type": "stream",
     "text": [
      "Hello World\n",
      "This is a sample file\n",
      "This is a test file\n",
      "\n"
     ]
    }
   ],
   "source": [
    "# reading from giles\n",
    "# -> using read()\n",
    "f = open(\"sample.txt\", \"r\")\n",
    "print(f.read())\n",
    "f.close()"
   ]
  },
  {
   "cell_type": "code",
   "execution_count": 8,
   "id": "b37d8137",
   "metadata": {},
   "outputs": [
    {
     "name": "stdout",
     "output_type": "stream",
     "text": [
      "Hello\n"
     ]
    }
   ],
   "source": [
    "#reading upto n characters\n",
    "f = open(\"sample.txt\", \"r\")\n",
    "print(f.read(5))  # read first 5 characters\n",
    "f.close()"
   ]
  },
  {
   "cell_type": "code",
   "execution_count": 9,
   "id": "14eff4fc",
   "metadata": {},
   "outputs": [
    {
     "name": "stdout",
     "output_type": "stream",
     "text": [
      "Hello World\n",
      "\n",
      "This is a sample file\n",
      "\n"
     ]
    },
    {
     "data": {
      "text/plain": [
       "<function TextIOWrapper.close()>"
      ]
     },
     "execution_count": 9,
     "metadata": {},
     "output_type": "execute_result"
    }
   ],
   "source": [
    "#readline() -> to read line by line\n",
    "\n",
    "f = open(\"sample.txt\", \"r\")\n",
    "print(f.readline())  # read first line\n",
    "print(f.readline())  # read second line\n",
    "f.close"
   ]
  },
  {
   "cell_type": "code",
   "execution_count": 14,
   "id": "f5dc25cd",
   "metadata": {},
   "outputs": [],
   "source": [
    "# readind entire using readline \n",
    "f = open(\"sample.txt\", \"r\")\n",
    "# while f.readline() != ' ':\n",
    "#     print(f.readline())\n",
    "f.close()"
   ]
  },
  {
   "cell_type": "markdown",
   "id": "6bfbfd82",
   "metadata": {},
   "source": [
    "Using Context Manager (With)\n",
    "\n",
    "- It's a good idea to close a file after usage as it will free up\n",
    "- if we dont close it garbage collector would close it \n",
    "- with keyword closes the file as soon as the usage is over "
   ]
  },
  {
   "cell_type": "code",
   "execution_count": 16,
   "id": "62b1ff7c",
   "metadata": {},
   "outputs": [],
   "source": [
    "with open(\"sample.txt\", \"w\") as f:\n",
    "    f.write(\"Hello World\")\n"
   ]
  },
  {
   "cell_type": "code",
   "execution_count": 17,
   "id": "1e291376",
   "metadata": {},
   "outputs": [
    {
     "name": "stdout",
     "output_type": "stream",
     "text": [
      "Hello World\n"
     ]
    }
   ],
   "source": [
    "#try f.read() now \n",
    "with open(\"sample.txt\", \"r\") as f:\n",
    "    print(f.read())"
   ]
  },
  {
   "cell_type": "code",
   "execution_count": 18,
   "id": "6685dd38",
   "metadata": {},
   "outputs": [
    {
     "name": "stdout",
     "output_type": "stream",
     "text": [
      "Hello Worl\n",
      "d\n"
     ]
    }
   ],
   "source": [
    "# moving within a file -> char then 10 char\n",
    "with open(\"sample.txt\", \"r\") as f:\n",
    "    print(f.read(10))  # read first 10 characters\n",
    "    print(f.read(5))   # read next 5 characters"
   ]
  },
  {
   "cell_type": "code",
   "execution_count": 19,
   "id": "f71c4495",
   "metadata": {},
   "outputs": [
    {
     "name": "stdout",
     "output_type": "stream",
     "text": [
      "0\n",
      "0\n",
      "Hello\n",
      "5\n",
      "0\n"
     ]
    }
   ],
   "source": [
    "#seek and tell function \n",
    "with open(\"sample.txt\", \"r\") as f:\n",
    "    print(f.tell())  # current position\n",
    "    f.seek(0)        # move to the beginning of the file\n",
    "    print(f.tell())  # current position\n",
    "    print(f.read(5)) # read first 5 characters\n",
    "    print(f.tell())  # current position\n",
    "    f.seek(0)        # move to the beginning of the file\n",
    "    print(f.tell())  # current position"
   ]
  },
  {
   "cell_type": "code",
   "execution_count": 22,
   "id": "b88c09a6",
   "metadata": {},
   "outputs": [],
   "source": [
    "#seek during write \n",
    "with open(\"sample.txt\",\"w\") as f:\n",
    "    f.write(\"Hello World\")  # current position\n",
    "    f.seek(0)        # move to the beginning of the file\n",
    "    f.write('X')"
   ]
  },
  {
   "cell_type": "code",
   "execution_count": 24,
   "id": "1214cfdf",
   "metadata": {},
   "outputs": [],
   "source": [
    "# working with binary files\n",
    "with open(\"Screenshot.png\", \"rb\") as f:\n",
    "    with open(\"ScreenShotCopy.png\", \"wb\") as f1:\n",
    "        f1.write(f.read())"
   ]
  },
  {
   "cell_type": "markdown",
   "id": "f7e8be94",
   "metadata": {},
   "source": [
    "we can only write string data ia file "
   ]
  },
  {
   "cell_type": "markdown",
   "id": "4f582a68",
   "metadata": {},
   "source": [
    "Serialization and deserialization \n",
    "serialization is the process of converting python data types to JSON formal \n",
    "Deserialization is the process of converting JSON to python data types\n",
    "\n"
   ]
  },
  {
   "cell_type": "code",
   "execution_count": 26,
   "id": "36844c83",
   "metadata": {},
   "outputs": [],
   "source": [
    "#serialization using json module \n",
    "\n",
    "import json\n",
    "\n",
    "L = [1, 2, 3, 4, 5]\n",
    "\n",
    "with open (\"sample.json\", \"w\") as f:\n",
    "    json.dump(L, f)\n",
    "\n",
    "#this can be done with all the python data types\n"
   ]
  },
  {
   "cell_type": "code",
   "execution_count": null,
   "id": "cbb53584",
   "metadata": {},
   "outputs": [
    {
     "name": "stdout",
     "output_type": "stream",
     "text": [
      "[1, 2, 3, 4, 5]\n"
     ]
    }
   ],
   "source": [
    "import json\n",
    "#deserialization\n",
    "with open(\"sample.json\", \"r\") as f:\n",
    "    L = json.load(f)\n",
    "    print(L)"
   ]
  },
  {
   "cell_type": "markdown",
   "id": "c47ffc3b",
   "metadata": {},
   "source": [
    "Pickling \n",
    "Pickling is the process where a python obketc hierarchy is converted into a bu=yte ztream and unpickling in the inverse operation whereby a byte stream is converted back intro an object hierarchy"
   ]
  },
  {
   "cell_type": "code",
   "execution_count": 28,
   "id": "722ec584",
   "metadata": {},
   "outputs": [],
   "source": [
    "import pickle\n",
    "\n",
    "with open(\"sample.pkl\", \"wb\") as f:\n",
    "    pickle.dump(L, f)\n"
   ]
  },
  {
   "cell_type": "code",
   "execution_count": 29,
   "id": "9793e04f",
   "metadata": {},
   "outputs": [
    {
     "name": "stdout",
     "output_type": "stream",
     "text": [
      "[1, 2, 3, 4, 5]\n"
     ]
    }
   ],
   "source": [
    "import pickle\n",
    "#deserialization\n",
    "with open(\"sample.pkl\", \"rb\") as f:\n",
    "    L = pickle.load(f)\n",
    "    print(L)"
   ]
  },
  {
   "cell_type": "code",
   "execution_count": null,
   "id": "1f5ebc04",
   "metadata": {},
   "outputs": [],
   "source": []
  }
 ],
 "metadata": {
  "kernelspec": {
   "display_name": "base",
   "language": "python",
   "name": "python3"
  },
  "language_info": {
   "codemirror_mode": {
    "name": "ipython",
    "version": 3
   },
   "file_extension": ".py",
   "mimetype": "text/x-python",
   "name": "python",
   "nbconvert_exporter": "python",
   "pygments_lexer": "ipython3",
   "version": "3.12.7"
  }
 },
 "nbformat": 4,
 "nbformat_minor": 5
}

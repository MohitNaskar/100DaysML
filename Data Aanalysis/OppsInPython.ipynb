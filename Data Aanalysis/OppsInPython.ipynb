{
 "cells": [
  {
   "cell_type": "markdown",
   "metadata": {},
   "source": [
    "Everything in an python is an object \n",
    "\n",
    "All the datatypes and classes and the functions in it can be objects\n",
    "There are two types of class user defined class and pre defined classes"
   ]
  },
  {
   "cell_type": "code",
   "execution_count": null,
   "metadata": {},
   "outputs": [],
   "source": [
    "class Atm:\n",
    "    #contructor : a function inside the class and its a special function\n",
    "    #a contructor is a automatically called when an object of the class is created\n",
    "    def __init__(self): # contructor #self is same as this in java\n",
    "        #self is a reference to the current instance of the class\n",
    "        self.__pin = \"\"\n",
    "        self.__balance = 0\n",
    "        self.menu()\n",
    "    \n",
    "    def get_balence(self):\n",
    "        #get the balance\n",
    "        return self.__balance\n",
    "    def set_balence(self, balance):\n",
    "        #set the balance\n",
    "        self.__balance = balance\n",
    "        print(\"Balance set successfully\")\n",
    "\n",
    "    def get_pin(self):\n",
    "        #get the pin\n",
    "        return self.__pin\n",
    "    def set_pin(self, pin):\n",
    "        #set the pin\n",
    "        self.__pin = pin\n",
    "        print(\"Pin set successfully\")\n",
    "        \n",
    "    def menu(self):\n",
    "        user_input = input(\"\"\"Welcome to ATM\\n1. Set Pin\\n2. Change Pin\\n3. Check Balence\\n 4. Exit\\n\"\"\")\n",
    "        if user_input == \"1\":\n",
    "            pin = input(\"Enter your pin: \")\n",
    "            self.set_pin(pin)\n",
    "        elif user_input == \"2\":\n",
    "            pin = input(\"Enter your new pin: \")\n",
    "            self.change_pin(pin)\n",
    "        elif user_input == \"3\":\n",
    "            print(\"Your balance is: \", self.check_balance())\n",
    "        elif user_input == \"4\":\n",
    "            print(\"Thank you for using ATM\")\n",
    "            exit()\n",
    "        else:  \n",
    "            print(\"Invalid input\")\n",
    "            self.menu()\n",
    "\n",
    "\n",
    "    def check_balance(self):\n",
    "        #check the balance\n",
    "        user_balance = 1000 # this is just a placeholder\n",
    "        return user_balance\n",
    "    \n",
    "    def set_pin(self, pin):\n",
    "        #set the pin\n",
    "        self.pin = pin\n",
    "        print(\"Pin set successfully\")\n",
    "    \n",
    "    def change_pin(self,pin):\n",
    "        #get the pin\n",
    "        self.pin = pin\n",
    "        print(\"Pin changed successfully\")"
   ]
  },
  {
   "cell_type": "code",
   "execution_count": 14,
   "metadata": {},
   "outputs": [
    {
     "name": "stdout",
     "output_type": "stream",
     "text": [
      "Pin set successfully\n"
     ]
    }
   ],
   "source": [
    "obj = Atm() #creating an object of the class"
   ]
  },
  {
   "cell_type": "code",
   "execution_count": null,
   "metadata": {},
   "outputs": [
    {
     "data": {
      "text/plain": [
       "__main__.Atm"
      ]
     },
     "execution_count": 6,
     "metadata": {},
     "output_type": "execute_result"
    }
   ],
   "source": [
    "type(obj) # to check the type of the object"
   ]
  },
  {
   "cell_type": "markdown",
   "metadata": {},
   "source": [
    "__str__ is used to print within a class just like toString\n",
    "\n"
   ]
  },
  {
   "cell_type": "markdown",
   "metadata": {},
   "source": [
    "In user defined classes in python the objects can be mutable"
   ]
  },
  {
   "cell_type": "markdown",
   "metadata": {},
   "source": [
    "how to make a variable private = __variable \n",
    "if we put double underscore it turns to private variable"
   ]
  },
  {
   "cell_type": "markdown",
   "metadata": {},
   "source": [
    "Getter setter is also there for python same concept as java (encapsulatio)"
   ]
  },
  {
   "cell_type": "markdown",
   "metadata": {},
   "source": [
    "Static variables are something we cant modify"
   ]
  },
  {
   "cell_type": "markdown",
   "metadata": {},
   "source": [
    "during aggression we cannot fetch private classesw"
   ]
  },
  {
   "cell_type": "code",
   "execution_count": 1,
   "metadata": {},
   "outputs": [],
   "source": [
    "class Person:\n",
    "    def __ini5(self,name,country):\n",
    "        self.name = name\n",
    "        self.country = country\n",
    "\n",
    "    def greet(self):\n",
    "        if self.country == 'india':\n",
    "            print(\"Namaste\")\n",
    "        else:\n",
    "            print(\"Hello\")"
   ]
  },
  {
   "cell_type": "code",
   "execution_count": null,
   "metadata": {},
   "outputs": [],
   "source": []
  },
  {
   "cell_type": "code",
   "execution_count": null,
   "metadata": {},
   "outputs": [],
   "source": []
  }
 ],
 "metadata": {
  "kernelspec": {
   "display_name": "base",
   "language": "python",
   "name": "python3"
  },
  "language_info": {
   "codemirror_mode": {
    "name": "ipython",
    "version": 3
   },
   "file_extension": ".py",
   "mimetype": "text/x-python",
   "name": "python",
   "nbconvert_exporter": "python",
   "pygments_lexer": "ipython3",
   "version": "3.12.7"
  }
 },
 "nbformat": 4,
 "nbformat_minor": 2
}

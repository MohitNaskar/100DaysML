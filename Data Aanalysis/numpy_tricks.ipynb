{
 "cells": [
  {
   "cell_type": "code",
   "execution_count": 1,
   "id": "dc020245",
   "metadata": {},
   "outputs": [
    {
     "data": {
      "text/plain": [
       "array([ 2,  2,  5,  8, 10, 12, 20, 23, 25, 28, 29, 33, 35, 37, 46, 52, 56,\n",
       "       57, 59, 61, 66, 69, 78, 81, 83, 86, 89, 93, 97, 99])"
      ]
     },
     "execution_count": 1,
     "metadata": {},
     "output_type": "execute_result"
    }
   ],
   "source": [
    "#Sorting using numpy\n",
    "\n",
    "import numpy as np\n",
    "a = np.random.randint(1, 100, 30)\n",
    "\n",
    "np.sort(a)"
   ]
  },
  {
   "cell_type": "code",
   "execution_count": 2,
   "id": "0b4c538b",
   "metadata": {},
   "outputs": [
    {
     "data": {
      "text/plain": [
       "array([[74, 36, 81, 22, 85, 69],\n",
       "       [86, 32, 45, 11, 95,  4],\n",
       "       [ 8, 69, 94, 22, 33, 62],\n",
       "       [89, 36, 67, 72, 37, 54],\n",
       "       [46, 24, 96, 61, 19, 21]])"
      ]
     },
     "execution_count": 2,
     "metadata": {},
     "output_type": "execute_result"
    }
   ],
   "source": [
    "b = np.random.randint(1, 100, 30).reshape(5, 6)\n",
    "b "
   ]
  },
  {
   "cell_type": "code",
   "execution_count": null,
   "id": "ee87182b",
   "metadata": {},
   "outputs": [
    {
     "data": {
      "text/plain": [
       "array([[ 8, 24, 45, 11, 19,  4],\n",
       "       [46, 32, 67, 22, 33, 21],\n",
       "       [74, 36, 81, 22, 37, 54],\n",
       "       [86, 36, 94, 61, 85, 62],\n",
       "       [89, 69, 96, 72, 95, 69]])"
      ]
     },
     "execution_count": 3,
     "metadata": {},
     "output_type": "execute_result"
    }
   ],
   "source": [
    "np.sort(b, axis=0) # sort by columm"
   ]
  },
  {
   "cell_type": "code",
   "execution_count": 4,
   "id": "33ba6ef1",
   "metadata": {},
   "outputs": [
    {
     "data": {
      "text/plain": [
       "array([[22, 36, 69, 74, 81, 85],\n",
       "       [ 4, 11, 32, 45, 86, 95],\n",
       "       [ 8, 22, 33, 62, 69, 94],\n",
       "       [36, 37, 54, 67, 72, 89],\n",
       "       [19, 21, 24, 46, 61, 96]])"
      ]
     },
     "execution_count": 4,
     "metadata": {},
     "output_type": "execute_result"
    }
   ],
   "source": [
    "np.sort(b, axis=1) # sort by row"
   ]
  },
  {
   "cell_type": "code",
   "execution_count": 5,
   "id": "b4b0df95",
   "metadata": {},
   "outputs": [
    {
     "data": {
      "text/plain": [
       "array([[74, 36, 81, 22, 85, 69],\n",
       "       [86, 32, 45, 11, 95,  4],\n",
       "       [ 8, 69, 94, 22, 33, 62],\n",
       "       [89, 36, 67, 72, 37, 54],\n",
       "       [46, 24, 96, 61, 19, 21],\n",
       "       [ 1,  2,  3,  4,  5,  6]])"
      ]
     },
     "execution_count": 5,
     "metadata": {},
     "output_type": "execute_result"
    }
   ],
   "source": [
    "#append appneds the values to the end of the array\n",
    "np.append(b, [[1, 2, 3, 4, 5, 6]], axis=0) # append to the end of the array"
   ]
  },
  {
   "cell_type": "code",
   "execution_count": 6,
   "id": "3fba2e46",
   "metadata": {},
   "outputs": [
    {
     "data": {
      "text/plain": [
       "array([66, 97, 35, 33, 93, 52, 86, 83,  2, 10, 69, 12,  8, 23, 56,  5, 28,\n",
       "       46,  2, 25, 61, 59, 89, 29, 81, 78, 20, 99, 37, 57,  1,  2,  3,  4,\n",
       "        5,  6])"
      ]
     },
     "execution_count": 6,
     "metadata": {},
     "output_type": "execute_result"
    }
   ],
   "source": [
    "np.append(a, [1, 2, 3, 4, 5, 6]) # append to the end of the array"
   ]
  },
  {
   "cell_type": "code",
   "execution_count": 7,
   "id": "d65c855a",
   "metadata": {},
   "outputs": [
    {
     "data": {
      "text/plain": [
       "array([[74, 36, 81, 22, 85, 69],\n",
       "       [86, 32, 45, 11, 95,  4],\n",
       "       [ 8, 69, 94, 22, 33, 62],\n",
       "       [89, 36, 67, 72, 37, 54],\n",
       "       [46, 24, 96, 61, 19, 21],\n",
       "       [ 1,  2,  3,  4,  5,  6]])"
      ]
     },
     "execution_count": 7,
     "metadata": {},
     "output_type": "execute_result"
    }
   ],
   "source": [
    "#concatenate concatenates the values to the end of the array\n",
    "np.concatenate((b, [[1, 2, 3, 4, 5, 6]]), axis=0) # append to the end of the array"
   ]
  },
  {
   "cell_type": "code",
   "execution_count": 9,
   "id": "b83fcbd5",
   "metadata": {},
   "outputs": [
    {
     "data": {
      "text/plain": [
       "array([66, 97, 35, 33, 93, 52, 86, 83,  2, 10, 69, 12,  8, 23, 56,  5, 28,\n",
       "       46,  2, 25, 61, 59, 89, 29, 81, 78, 20, 99, 37, 57,  1,  2,  3,  4,\n",
       "        5,  6])"
      ]
     },
     "execution_count": 9,
     "metadata": {},
     "output_type": "execute_result"
    }
   ],
   "source": [
    "#concatenate concatenates the values to the end of the array\n",
    "np.concatenate((a, [1, 2, 3, 4, 5, 6]), axis=0) # append to the end of the array"
   ]
  },
  {
   "cell_type": "code",
   "execution_count": 11,
   "id": "448adbbf",
   "metadata": {},
   "outputs": [
    {
     "data": {
      "text/plain": [
       "array([ 2,  5,  8, 10, 12, 20, 23, 25, 28, 29, 33, 35, 37, 46, 52, 56, 57,\n",
       "       59, 61, 66, 69, 78, 81, 83, 86, 89, 93, 97, 99])"
      ]
     },
     "execution_count": 11,
     "metadata": {},
     "output_type": "execute_result"
    }
   ],
   "source": [
    "#unique returns the unique values in the array\n",
    "np.unique(a) # unique values in the array\n"
   ]
  },
  {
   "cell_type": "code",
   "execution_count": 12,
   "id": "c33d448e",
   "metadata": {},
   "outputs": [
    {
     "data": {
      "text/plain": [
       "array([ 4,  8, 11, 19, 21, 22, 24, 32, 33, 36, 37, 45, 46, 54, 61, 62, 67,\n",
       "       69, 72, 74, 81, 85, 86, 89, 94, 95, 96])"
      ]
     },
     "execution_count": 12,
     "metadata": {},
     "output_type": "execute_result"
    }
   ],
   "source": [
    "np.unique(b) # unique values in the array"
   ]
  },
  {
   "cell_type": "code",
   "execution_count": 13,
   "id": "e1f25401",
   "metadata": {},
   "outputs": [
    {
     "data": {
      "text/plain": [
       "array([[66, 97, 35, 33, 93, 52, 86, 83,  2, 10, 69, 12,  8, 23, 56,  5,\n",
       "        28, 46,  2, 25, 61, 59, 89, 29, 81, 78, 20, 99, 37, 57]])"
      ]
     },
     "execution_count": 13,
     "metadata": {},
     "output_type": "execute_result"
    }
   ],
   "source": [
    "#expanddims adds a new axis to the array\n",
    "np.expand_dims(a, axis=0) # add a new axis to the array"
   ]
  },
  {
   "cell_type": "code",
   "execution_count": 14,
   "id": "80a6ff22",
   "metadata": {},
   "outputs": [
    {
     "data": {
      "text/plain": [
       "(array([ 0,  1,  4,  5,  6,  7, 10, 14, 20, 21, 22, 24, 25, 27, 29]),)"
      ]
     },
     "execution_count": 14,
     "metadata": {},
     "output_type": "execute_result"
    }
   ],
   "source": [
    "#where returns the indices of the values that are True\n",
    "np.where(a > 50) # indices of the values that are greater than 50"
   ]
  },
  {
   "cell_type": "code",
   "execution_count": 15,
   "id": "91ae1eff",
   "metadata": {},
   "outputs": [
    {
     "data": {
      "text/plain": [
       "array([66, 97,  0,  0, 93, 52, 86, 83,  0,  0, 69,  0,  0,  0, 56,  0,  0,\n",
       "        0,  0,  0, 61, 59, 89,  0, 81, 78,  0, 99,  0, 57])"
      ]
     },
     "execution_count": 15,
     "metadata": {},
     "output_type": "execute_result"
    }
   ],
   "source": [
    "np.where(a>50, a, 0) # indices of the values that are greater than 50"
   ]
  },
  {
   "cell_type": "code",
   "execution_count": 16,
   "id": "4df0c150",
   "metadata": {},
   "outputs": [
    {
     "data": {
      "text/plain": [
       "27"
      ]
     },
     "execution_count": 16,
     "metadata": {},
     "output_type": "execute_result"
    }
   ],
   "source": [
    "#argmax returns the index of the maximum value in the array\n",
    "np.argmax(a) # index of the maximum value in the array"
   ]
  },
  {
   "cell_type": "code",
   "execution_count": 17,
   "id": "a2b04cca",
   "metadata": {},
   "outputs": [
    {
     "data": {
      "text/plain": [
       "11"
      ]
     },
     "execution_count": 17,
     "metadata": {},
     "output_type": "execute_result"
    }
   ],
   "source": [
    "np.argmin(b) # index of the minimum value in the array"
   ]
  },
  {
   "cell_type": "code",
   "execution_count": 18,
   "id": "d58fd03f",
   "metadata": {},
   "outputs": [
    {
     "data": {
      "text/plain": [
       "array([  66,  163,  198,  231,  324,  376,  462,  545,  547,  557,  626,\n",
       "        638,  646,  669,  725,  730,  758,  804,  806,  831,  892,  951,\n",
       "       1040, 1069, 1150, 1228, 1248, 1347, 1384, 1441])"
      ]
     },
     "execution_count": 18,
     "metadata": {},
     "output_type": "execute_result"
    }
   ],
   "source": [
    "# np.cumsum returns the cumulative sum of the array\n",
    "np.cumsum(a) # cumulative sum of the array"
   ]
  },
  {
   "cell_type": "code",
   "execution_count": 19,
   "id": "62b79a9a",
   "metadata": {},
   "outputs": [
    {
     "data": {
      "text/plain": [
       "array([                  66,                 6402,               224070,\n",
       "                    7394310,            687670830,          35758883160,\n",
       "              3075263951760,      255246907996080,      510493815992160,\n",
       "           5104938159921600,   352240733034590400,  4226888796415084800,\n",
       "       -3078377776098424832,  2984287444574435328,  1099400232782413824,\n",
       "        5497001163912069120,  6342079999861522432, -3412225185722793984,\n",
       "       -6824450371445587968, -4590562622753734656, -3323158882334539776,\n",
       "        6847810753067220992,   712602590567464960,  2218731052746932224,\n",
       "       -4750225464594006016, -1582704764141436928,  5239392864590364672,\n",
       "        2191059530578657280,  7282226336572112896, -9188212510709252096])"
      ]
     },
     "execution_count": 19,
     "metadata": {},
     "output_type": "execute_result"
    }
   ],
   "source": [
    "#cumprod returns the cumulative product of the array\n",
    "np.cumprod(a) # cumulative product of the array"
   ]
  },
  {
   "cell_type": "code",
   "execution_count": 20,
   "id": "a65c98c5",
   "metadata": {},
   "outputs": [
    {
     "data": {
      "text/plain": [
       "array([[ 74,  36,  81,  22,  85,  69],\n",
       "       [160,  68, 126,  33, 180,  73],\n",
       "       [168, 137, 220,  55, 213, 135],\n",
       "       [257, 173, 287, 127, 250, 189],\n",
       "       [303, 197, 383, 188, 269, 210]])"
      ]
     },
     "execution_count": 20,
     "metadata": {},
     "output_type": "execute_result"
    }
   ],
   "source": [
    "np.cumsum(b,axis=0) # cumulative sum of the array"
   ]
  },
  {
   "cell_type": "code",
   "execution_count": 21,
   "id": "371ec8a2",
   "metadata": {},
   "outputs": [
    {
     "data": {
      "text/plain": [
       "49.0"
      ]
     },
     "execution_count": 21,
     "metadata": {},
     "output_type": "execute_result"
    }
   ],
   "source": [
    "#np.percentile returns the percentile of the array\n",
    "np.percentile(a, 50) # 50th percentile of the array"
   ]
  },
  {
   "cell_type": "code",
   "execution_count": 25,
   "id": "9e5b9bbd",
   "metadata": {},
   "outputs": [
    {
     "data": {
      "text/plain": [
       "(array([5, 2, 4, 3, 1, 4, 3, 1, 4, 3]),\n",
       " array([ 2. , 11.7, 21.4, 31.1, 40.8, 50.5, 60.2, 69.9, 79.6, 89.3, 99. ]))"
      ]
     },
     "execution_count": 25,
     "metadata": {},
     "output_type": "execute_result"
    }
   ],
   "source": [
    "#np.histogram returns the histogram of the array (ferquency distribution)\n",
    "np.histogram(a, bins=10) # histogram of the array"
   ]
  },
  {
   "cell_type": "code",
   "execution_count": 27,
   "id": "0db3ebe1",
   "metadata": {},
   "outputs": [
    {
     "data": {
      "text/plain": [
       "array([[1.        , 0.05345593],\n",
       "       [0.05345593, 1.        ]])"
      ]
     },
     "execution_count": 27,
     "metadata": {},
     "output_type": "execute_result"
    }
   ],
   "source": [
    "#np.corrcoef returns the correlation coefficient of the array\n",
    "salary = np.random.randint(1, 100, 30)\n",
    "age = np.random.randint(1, 100, 30)\n",
    "np.corrcoef(salary, age) # correlation coefficient of the array"
   ]
  },
  {
   "cell_type": "code",
   "execution_count": 29,
   "id": "4d95e5f6",
   "metadata": {},
   "outputs": [
    {
     "data": {
      "text/plain": [
       "array([False, False, False, False, False, False, False, False,  True,\n",
       "       False, False, False, False, False, False,  True, False, False,\n",
       "        True, False, False, False, False, False, False, False, False,\n",
       "       False, False, False])"
      ]
     },
     "execution_count": 29,
     "metadata": {},
     "output_type": "execute_result"
    }
   ],
   "source": [
    "#np.isin returns True if the value is in the array used to check multiples values if they are in the array\n",
    "np.isin(a, [1, 2, 3, 4, 5]) # True if the value is in the array"
   ]
  },
  {
   "cell_type": "code",
   "execution_count": 30,
   "id": "996c6df3",
   "metadata": {},
   "outputs": [
    {
     "data": {
      "text/plain": [
       "array([57, 37, 99, 20, 78, 81, 29, 89, 59, 61, 25,  2, 46, 28,  5, 56, 23,\n",
       "        8, 12, 69, 10,  2, 83, 86, 52, 93, 33, 35, 97, 66])"
      ]
     },
     "execution_count": 30,
     "metadata": {},
     "output_type": "execute_result"
    }
   ],
   "source": [
    "# np.flip flips the array\n",
    "np.flip(a) # flips the array"
   ]
  },
  {
   "cell_type": "code",
   "execution_count": 31,
   "id": "2ef4b285",
   "metadata": {},
   "outputs": [
    {
     "data": {
      "text/plain": [
       "array([[46, 24, 96, 61, 19, 21],\n",
       "       [89, 36, 67, 72, 37, 54],\n",
       "       [ 8, 69, 94, 22, 33, 62],\n",
       "       [86, 32, 45, 11, 95,  4],\n",
       "       [74, 36, 81, 22, 85, 69]])"
      ]
     },
     "execution_count": 31,
     "metadata": {},
     "output_type": "execute_result"
    }
   ],
   "source": [
    "np.flip(b, axis=0) # flips the array"
   ]
  },
  {
   "cell_type": "code",
   "execution_count": 32,
   "id": "42d70e25",
   "metadata": {},
   "outputs": [],
   "source": [
    "#np.put returns the array with the values replaced\n",
    "np.put(a, [1, 2, 3], [4, 5, 6]) # replaces the values in the array"
   ]
  },
  {
   "cell_type": "code",
   "execution_count": 33,
   "id": "884d5175",
   "metadata": {},
   "outputs": [
    {
     "data": {
      "text/plain": [
       "array([66,  4,  5,  6, 93, 52, 86, 83,  2, 10, 69, 12,  8, 23, 56,  5, 28,\n",
       "       46,  2, 25, 61, 59, 89, 29, 81, 78, 20, 99, 37, 57])"
      ]
     },
     "execution_count": 33,
     "metadata": {},
     "output_type": "execute_result"
    }
   ],
   "source": [
    "a"
   ]
  },
  {
   "cell_type": "code",
   "execution_count": null,
   "id": "2157d245",
   "metadata": {},
   "outputs": [
    {
     "data": {
      "text/plain": [
       "array([66, 93, 52, 86, 83,  2, 10, 69, 12,  8, 23, 56,  5, 28, 46,  2, 25,\n",
       "       61, 59, 89, 29, 81, 78, 20, 99, 37, 57])"
      ]
     },
     "execution_count": 34,
     "metadata": {},
     "output_type": "execute_result"
    }
   ],
   "source": [
    "#np.delete deletes the values in the array\n",
    "np.delete(a, [1, 2, 3]) # deletes the values in the array(indices are passed)"
   ]
  },
  {
   "cell_type": "code",
   "execution_count": null,
   "id": "a7e74644",
   "metadata": {},
   "outputs": [],
   "source": []
  }
 ],
 "metadata": {
  "kernelspec": {
   "display_name": "base",
   "language": "python",
   "name": "python3"
  },
  "language_info": {
   "codemirror_mode": {
    "name": "ipython",
    "version": 3
   },
   "file_extension": ".py",
   "mimetype": "text/x-python",
   "name": "python",
   "nbconvert_exporter": "python",
   "pygments_lexer": "ipython3",
   "version": "3.12.7"
  }
 },
 "nbformat": 4,
 "nbformat_minor": 5
}

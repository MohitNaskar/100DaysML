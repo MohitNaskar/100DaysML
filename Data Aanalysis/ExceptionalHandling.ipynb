{
 "cells": [
  {
   "cell_type": "markdown",
   "id": "980513b0",
   "metadata": {},
   "source": [
    "There are 2 stages where error may happen in a program \n",
    "\n",
    "-During compilation -> syntax error\n",
    "-During execution -> exceptions"
   ]
  },
  {
   "cell_type": "code",
   "execution_count": 1,
   "id": "c27b7d20",
   "metadata": {},
   "outputs": [
    {
     "name": "stdout",
     "output_type": "stream",
     "text": [
      "Xello World\n",
      "Execution completed.\n"
     ]
    }
   ],
   "source": [
    "try:\n",
    "    f = open('sample.txt', 'r')\n",
    "\n",
    "except FileNotFoundError:\n",
    "    print(\"File not found. Please check the file path and try again.\")\n",
    "    exit(1)\n",
    "except PermissionError:\n",
    "    print(\"Permission denied. Please check your file permissions.\")\n",
    "    exit(1)\n",
    "except Exception as e:\n",
    "    print(f\"An unexpected error occurred: {e}\")\n",
    "    exit(1)\n",
    "else:\n",
    "    print(f.read())\n",
    "finally:\n",
    "    print(\"Execution completed.\")\n",
    "    f.close()"
   ]
  },
  {
   "cell_type": "code",
   "execution_count": null,
   "id": "32a94890",
   "metadata": {},
   "outputs": [],
   "source": [
    "#Raise exception \n",
    "#in python programing exceptions are raised when error occur at runtime\n",
    "# we can raise exception using raise keyword\n",
    "\n",
    "#we can optionaly pass values to the exceptions to clarify why that exc eption was raised"
   ]
  },
  {
   "cell_type": "code",
   "execution_count": 7,
   "id": "5ad73e8e",
   "metadata": {},
   "outputs": [
    {
     "name": "stdout",
     "output_type": "stream",
     "text": [
      "An error occurred: Insufficient funds\n"
     ]
    }
   ],
   "source": [
    "class Bank:\n",
    "    def __init__(self, balence):\n",
    "        self.balance = balence\n",
    "    \n",
    "    def withdraw(self, amount):\n",
    "        if amount < 0:\n",
    "            raise InsufficientFundsError(\"Withdrawal amount must be positive\")\n",
    "        if amount > self.balance:\n",
    "            raise InsufficientFundsError(\"Insufficient funds\")\n",
    "        self.balance -= amount\n",
    "\n",
    "obj = Bank(1000)\n",
    "try:\n",
    "    obj.withdraw(2000)\n",
    "except Exception as e:\n",
    "    print(f\"An error occurred: {e}\")\n"
   ]
  },
  {
   "cell_type": "code",
   "execution_count": 5,
   "id": "47cdbe2a",
   "metadata": {},
   "outputs": [],
   "source": [
    "# we can also create our own custom exceptions\n",
    "class InsufficientFundsError(Exception):\n",
    "    \"\"\"Custom exception for insufficient funds.\"\"\"\n",
    "    def __init__(self, message):\n",
    "        self.message = message\n",
    "        super().__init__(self.message)"
   ]
  }
 ],
 "metadata": {
  "kernelspec": {
   "display_name": "base",
   "language": "python",
   "name": "python3"
  },
  "language_info": {
   "codemirror_mode": {
    "name": "ipython",
    "version": 3
   },
   "file_extension": ".py",
   "mimetype": "text/x-python",
   "name": "python",
   "nbconvert_exporter": "python",
   "pygments_lexer": "ipython3",
   "version": "3.12.7"
  }
 },
 "nbformat": 4,
 "nbformat_minor": 5
}

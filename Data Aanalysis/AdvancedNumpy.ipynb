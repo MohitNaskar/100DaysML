{
 "cells": [
  {
   "cell_type": "markdown",
   "id": "86035556",
   "metadata": {},
   "source": [
    "Numpy arrays vs python lists\n"
   ]
  },
  {
   "cell_type": "code",
   "execution_count": 1,
   "id": "b916bd34",
   "metadata": {},
   "outputs": [
    {
     "name": "stdout",
     "output_type": "stream",
     "text": [
      "Time taken for list append: 0.04763531684875488\n"
     ]
    }
   ],
   "source": [
    "#speed list\n",
    "\n",
    "a = [i for i in range(1000000)]\n",
    "b = [i for i in range(1000000)]\n",
    "\n",
    "c = []\n",
    "import time\n",
    "start = time.time()\n",
    "for i in range(1000000):\n",
    "    c.append(a[i] + b[i])\n",
    "print(\"Time taken for list append:\", time.time() - start)"
   ]
  },
  {
   "cell_type": "code",
   "execution_count": 2,
   "id": "264abf43",
   "metadata": {},
   "outputs": [
    {
     "name": "stdout",
     "output_type": "stream",
     "text": [
      "Time taken for numpy array addition: 0.00993204116821289\n"
     ]
    }
   ],
   "source": [
    "import numpy as np\n",
    "a = np.arange(1000000)\n",
    "b = np.arange(1000000)\n",
    "\n",
    "start = time.time()\n",
    "c = a + b\n",
    "print(\"Time taken for numpy array addition:\", time.time() - start)"
   ]
  },
  {
   "cell_type": "code",
   "execution_count": 3,
   "id": "a63bfa72",
   "metadata": {},
   "outputs": [
    {
     "data": {
      "text/plain": [
       "8448728"
      ]
     },
     "execution_count": 3,
     "metadata": {},
     "output_type": "execute_result"
    }
   ],
   "source": [
    "# memory usage\n",
    "import sys\n",
    "a = [i for i in range(1000000)]\n",
    "sys.getsizeof(a)"
   ]
  },
  {
   "cell_type": "code",
   "execution_count": 5,
   "id": "4c237ecd",
   "metadata": {},
   "outputs": [
    {
     "data": {
      "text/plain": [
       "4000112"
      ]
     },
     "execution_count": 5,
     "metadata": {},
     "output_type": "execute_result"
    }
   ],
   "source": [
    "a= np.arange(1000000, dtype=np.int32)\n",
    "sys.getsizeof(a)"
   ]
  },
  {
   "cell_type": "code",
   "execution_count": 6,
   "id": "93b7c849",
   "metadata": {},
   "outputs": [
    {
     "data": {
      "text/plain": [
       "array([[ 0,  1,  2],\n",
       "       [ 6,  7,  8],\n",
       "       [ 9, 10, 11]])"
      ]
     },
     "execution_count": 6,
     "metadata": {},
     "output_type": "execute_result"
    }
   ],
   "source": [
    "#Fancy Indexing\n",
    "a = np.arange(12).reshape(4, 3)\n",
    "\n",
    "# we can directly pass a list of indices\n",
    "a[[0,2,3]]"
   ]
  },
  {
   "cell_type": "code",
   "execution_count": 7,
   "id": "4da34fa8",
   "metadata": {},
   "outputs": [
    {
     "data": {
      "text/plain": [
       "array([[ 1,  2],\n",
       "       [ 4,  5],\n",
       "       [ 7,  8],\n",
       "       [10, 11]])"
      ]
     },
     "execution_count": 7,
     "metadata": {},
     "output_type": "execute_result"
    }
   ],
   "source": [
    "a[:,[1,2]] #if we are using 2D array, we can pass a list of indices for each axis and this is for columns"
   ]
  },
  {
   "cell_type": "code",
   "execution_count": 10,
   "id": "112ef431",
   "metadata": {},
   "outputs": [
    {
     "data": {
      "text/plain": [
       "array([[50, 70, 46,  9],\n",
       "       [38, 95, 12, 71],\n",
       "       [62, 78, 65, 53],\n",
       "       [68, 30, 80, 11],\n",
       "       [74, 97, 44, 85],\n",
       "       [49, 71, 41, 41]])"
      ]
     },
     "execution_count": 10,
     "metadata": {},
     "output_type": "execute_result"
    }
   ],
   "source": [
    "a = np.random.randint(1,100,24).reshape(6,4)\n",
    "a"
   ]
  },
  {
   "cell_type": "code",
   "execution_count": null,
   "id": "e039827f",
   "metadata": {},
   "outputs": [
    {
     "data": {
      "text/plain": [
       "array([[False,  True, False, False],\n",
       "       [False,  True, False,  True],\n",
       "       [ True,  True,  True,  True],\n",
       "       [ True, False,  True, False],\n",
       "       [ True,  True, False,  True],\n",
       "       [False,  True, False, False]])"
      ]
     },
     "execution_count": 11,
     "metadata": {},
     "output_type": "execute_result"
    }
   ],
   "source": [
    "#find all the elements greater than 50\n",
    "a >50 #the result is a boolean array"
   ]
  },
  {
   "cell_type": "code",
   "execution_count": 12,
   "id": "9261d6ab",
   "metadata": {},
   "outputs": [
    {
     "data": {
      "text/plain": [
       "array([70, 95, 71, 62, 78, 65, 53, 68, 80, 74, 97, 85, 71])"
      ]
     },
     "execution_count": 12,
     "metadata": {},
     "output_type": "execute_result"
    }
   ],
   "source": [
    "a[a>50] #this will give us all the elements greater than 50 and rest will be discarded"
   ]
  },
  {
   "cell_type": "code",
   "execution_count": 13,
   "id": "34356c6b",
   "metadata": {},
   "outputs": [
    {
     "data": {
      "text/plain": [
       "array([50, 70, 46, 38, 12, 62, 78, 68, 30, 80, 74, 44])"
      ]
     },
     "execution_count": 13,
     "metadata": {},
     "output_type": "execute_result"
    }
   ],
   "source": [
    "#find all even number \n",
    "\n",
    "a[a%2==0] #this will give us all the even numbers and rest will be discarded"
   ]
  },
  {
   "cell_type": "markdown",
   "id": "1d7a4174",
   "metadata": {},
   "source": [
    "& is a bitwise and we use with boolean AND is the and "
   ]
  },
  {
   "cell_type": "code",
   "execution_count": 15,
   "id": "dbddf247",
   "metadata": {},
   "outputs": [
    {
     "data": {
      "text/plain": [
       "array([70, 62, 78, 68, 80, 74])"
      ]
     },
     "execution_count": 15,
     "metadata": {},
     "output_type": "execute_result"
    }
   ],
   "source": [
    "a[(a>50) & (a%2==0)] #this will give us all the even numbers greater than 50 and rest will be discarded"
   ]
  },
  {
   "cell_type": "code",
   "execution_count": 17,
   "id": "6492c922",
   "metadata": {},
   "outputs": [
    {
     "data": {
      "text/plain": [
       "array([70, 49])"
      ]
     },
     "execution_count": 17,
     "metadata": {},
     "output_type": "execute_result"
    }
   ],
   "source": [
    "#find all the number divisible by 7\n",
    "a[a%7==0] #this will give us all the numbers divisible by 7 and rest will be discarded"
   ]
  },
  {
   "cell_type": "markdown",
   "id": "1d77eeb7",
   "metadata": {},
   "source": [
    "Broadcasting : describes how numpy treats arrays with different shapes during arithmatic operation\n",
    "the smaller array is broadcasted accross the larger array so that they have compatible shapes"
   ]
  },
  {
   "cell_type": "code",
   "execution_count": 18,
   "id": "a1611f1f",
   "metadata": {},
   "outputs": [
    {
     "data": {
      "text/plain": [
       "array([[ 0,  2,  4],\n",
       "       [ 6,  8, 10],\n",
       "       [12, 14, 16],\n",
       "       [18, 20, 22]])"
      ]
     },
     "execution_count": 18,
     "metadata": {},
     "output_type": "execute_result"
    }
   ],
   "source": [
    "a = np.arange(12).reshape(4, 3)\n",
    "b = np.arange(12).reshape(4, 3)\n",
    "a + b #this will give us the element wise addition of the two arrays"
   ]
  },
  {
   "cell_type": "code",
   "execution_count": 20,
   "id": "7514ed1f",
   "metadata": {},
   "outputs": [
    {
     "name": "stdout",
     "output_type": "stream",
     "text": [
      "[[0 1 2]\n",
      " [3 4 5]]\n",
      "[[0 1 2]]\n"
     ]
    },
    {
     "data": {
      "text/plain": [
       "array([[0, 2, 4],\n",
       "       [3, 5, 7]])"
      ]
     },
     "execution_count": 20,
     "metadata": {},
     "output_type": "execute_result"
    }
   ],
   "source": [
    "a = np.arange(6).reshape(2, 3)\n",
    "b = np.arange(3).reshape(1, 3)\n",
    "print(a)\n",
    "print(b)\n",
    "\n",
    "a + b #this will give us the element wise addition of the two arrays"
   ]
  },
  {
   "cell_type": "code",
   "execution_count": 22,
   "id": "e56e9e89",
   "metadata": {},
   "outputs": [
    {
     "data": {
      "text/plain": [
       "array([74, 79, 33, 62, 21, 38, 85, 99, 24,  3, 64, 87, 31, 16, 92,  7,  8,\n",
       "       51, 40, 35, 39, 68, 80, 79, 36])"
      ]
     },
     "execution_count": 22,
     "metadata": {},
     "output_type": "execute_result"
    }
   ],
   "source": [
    "#Working with mathematical formulas\n",
    "#finding the root mean square\n",
    "\n",
    "actual = np.random.randint(1,100,25)\n",
    "predicted = np.random.randint(1,100,25)\n",
    "\n",
    "def rmse(actual, predicted):\n",
    "    return np.sqrt(np.mean((actual - predicted) ** 2))\n",
    "np.random.randint(1,100,25)"
   ]
  },
  {
   "cell_type": "code",
   "execution_count": 29,
   "id": "c5d055e7",
   "metadata": {},
   "outputs": [
    {
     "data": {
      "text/plain": [
       "array([nan])"
      ]
     },
     "execution_count": 29,
     "metadata": {},
     "output_type": "execute_result"
    }
   ],
   "source": [
    "#dealing with missing values none is not a missing value but np.nan is a missing value\n",
    "a = np.array([1, 2, 3, np.nan, 5])\n",
    "np.isnan(a) #this will give us a boolean array with True for missing values and False for non missing values\n",
    "a[np.isnan(a)] #this will give us all the missing values"
   ]
  },
  {
   "cell_type": "code",
   "execution_count": 30,
   "id": "3fdbb2ad",
   "metadata": {},
   "outputs": [],
   "source": [
    " #this will give us all the missing values and rest will be discarded"
   ]
  },
  {
   "cell_type": "code",
   "execution_count": null,
   "id": "22850554",
   "metadata": {},
   "outputs": [],
   "source": []
  }
 ],
 "metadata": {
  "kernelspec": {
   "display_name": "base",
   "language": "python",
   "name": "python3"
  },
  "language_info": {
   "codemirror_mode": {
    "name": "ipython",
    "version": 3
   },
   "file_extension": ".py",
   "mimetype": "text/x-python",
   "name": "python",
   "nbconvert_exporter": "python",
   "pygments_lexer": "ipython3",
   "version": "3.12.7"
  }
 },
 "nbformat": 4,
 "nbformat_minor": 5
}
